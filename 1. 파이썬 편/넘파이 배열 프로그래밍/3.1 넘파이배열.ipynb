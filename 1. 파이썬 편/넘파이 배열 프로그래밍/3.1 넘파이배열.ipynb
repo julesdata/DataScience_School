{
 "cells": [
  {
   "cell_type": "markdown",
   "metadata": {},
   "source": [
    "## 3.1 넘파이배열\n",
    "많은 숫자 데이터를 하나의 변수에 넣고 관리 할 때 리스트는 속도가 느리고 메모리를 많이 차지하는 단점이 있다. 배열(array)을 사용하면 적은 메모리로 많은 데이터를 빠르게 처리할 수 있다.  \n",
    "배열은 리스트와 비슷하지만 다음과 같은 점에서 다르다.   \n",
    "1. 모든 원소가 같은 자료형이어야 한다. \n",
    "2. 원소의 갯수를 바꿀 수 없다.   \n",
    "파이썬은 자체적으료 배열 자료형을 제공하지 않는다. 따라서 파이썬에서 배열을 사용하기 위한 "
   ]
  },
  {
   "cell_type": "code",
   "execution_count": null,
   "metadata": {},
   "outputs": [],
   "source": []
  }
 ],
 "metadata": {
  "kernelspec": {
   "display_name": "Python 3",
   "language": "python",
   "name": "python3"
  },
  "language_info": {
   "codemirror_mode": {
    "name": "ipython",
    "version": 3
   },
   "file_extension": ".py",
   "mimetype": "text/x-python",
   "name": "python",
   "nbconvert_exporter": "python",
   "pygments_lexer": "ipython3",
   "version": "3.8.5"
  }
 },
 "nbformat": 4,
 "nbformat_minor": 4
}
