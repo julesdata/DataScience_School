{
 "cells": [
  {
   "cell_type": "markdown",
   "metadata": {},
   "source": [
    "## 2.12 파이썬 객체지향 프로그래밍"
   ]
  },
  {
   "cell_type": "markdown",
   "metadata": {},
   "source": [
    "\n",
    "\n",
    "프로그램이 어떤 작업을 수행하기 위해서는 아래 2가지 요소가 필요하다   \n",
    "1) 데이터 ->변수에 넣어서 사용하고  \n",
    "2) 데이터를 조작하는 행위 -> 함수로 구성하여 쉽게 실행하도록 함.   \n",
    "\n",
    "* 객체(object, instance)  \n",
    "    - 서로 연관된 데이터와 데이터 조작을 위한 함수를 하나의 집합에 모아놓은 것.   \n",
    "    - 집합의 원소가 되는 변수나 함수는 memeber 또는 attribute라고 부른다. \n",
    "    - 객체의 속성인 함수는 method라고 부른다. "
   ]
  },
  {
   "cell_type": "markdown",
   "metadata": {},
   "source": [
    "### 사각형의 면적을 구하는 프로그램 예시\n",
    "1) 데이터: 가로길이, 세로길이라는 두개의 데이터를 넣을 변수  \n",
    "2) 두 길이를 곱해서 면적을 구하는 함수\n",
    "\n"
   ]
  },
  {
   "cell_type": "code",
   "execution_count": 2,
   "metadata": {},
   "outputs": [
    {
     "name": "stdout",
     "output_type": "stream",
     "text": [
      "200\n"
     ]
    }
   ],
   "source": [
    "# 일반 파이썬 구현\n",
    "h = 10\n",
    "v = 20\n",
    "\n",
    "def area(h, v):\n",
    "    return h * v\n",
    "a = area(h, v)\n",
    "print(a)"
   ]
  },
  {
   "cell_type": "code",
   "execution_count": 4,
   "metadata": {},
   "outputs": [],
   "source": [
    "# 객체지향 프로그래밍\n",
    "# 클래스구현\n",
    "class Rectangle(object):\n",
    "    \n",
    "    def __init__(self, h, v):\n",
    "        self.h = h\n",
    "        self.v = v\n",
    "        \n",
    "    def area(self):\n",
    "        return self.h * self.v"
   ]
  },
  {
   "cell_type": "code",
   "execution_count": 6,
   "metadata": {},
   "outputs": [
    {
     "name": "stdout",
     "output_type": "stream",
     "text": [
      "200\n"
     ]
    }
   ],
   "source": [
    "r = Rectangle(10, 20)  # 객체 r \n",
    "a =  r.area()\n",
    "print(a)"
   ]
  },
  {
   "cell_type": "code",
   "execution_count": 7,
   "metadata": {},
   "outputs": [
    {
     "data": {
      "text/plain": [
       "10"
      ]
     },
     "execution_count": 7,
     "metadata": {},
     "output_type": "execute_result"
    }
   ],
   "source": [
    "r.h"
   ]
  },
  {
   "cell_type": "code",
   "execution_count": 8,
   "metadata": {},
   "outputs": [
    {
     "data": {
      "text/plain": [
       "20"
      ]
     },
     "execution_count": 8,
     "metadata": {},
     "output_type": "execute_result"
    }
   ],
   "source": [
    "r.v"
   ]
  },
  {
   "cell_type": "code",
   "execution_count": 9,
   "metadata": {},
   "outputs": [
    {
     "data": {
      "text/plain": [
       "200"
      ]
     },
     "execution_count": 9,
     "metadata": {},
     "output_type": "execute_result"
    }
   ],
   "source": [
    "r.area()"
   ]
  },
  {
   "cell_type": "markdown",
   "metadata": {},
   "source": [
    "### 2.12.1 클래스\n",
    "객체지향 프로그래밍에서 객체를 만들려면 객체를 바로 만들지 못하고 항상 클래스(class)라는 것을 만든 후에 그 클래스를 이용하여 객체를 만들어야 한다.   \n",
    "위 예제에서 Rectangle은 class이고, r은 Rectanlge클래스로 만들어진 객체이다. \n",
    "객체와 클래스의 관계는 \"붕어빵\"과 \"붕어빵을 굽는 틀\"에 비유할 수 있다. \n",
    "즉, 정해진 속성, 여기에서는 가로길이h와 세로길이 v라는 속성을 가지도록 사각형 클래스를 한번 만들어 놓으면 이 속성을 가지는 실제 사각형은 얼마든지 많이 만들 수 있다. "
   ]
  },
  {
   "cell_type": "code",
   "execution_count": 10,
   "metadata": {},
   "outputs": [],
   "source": [
    "#Rectangle class로 만든 사각형\n",
    "a = Rectangle(1,1)  # 가로 1, 세로 1인 사각형\n",
    "b = Rectangle(2,1)  # 가로 2, 세로 1인 사각형\n",
    "c = Rectangle(4,2)  # 가로 4, 세로 2인 사각형\n",
    "d = Rectangle(6,3)  # 가로 6, 세로 3인 사각형\n",
    "e = Rectangle(8,5)  # 가로 8, 세로 5인 사각형"
   ]
  },
  {
   "cell_type": "code",
   "execution_count": 11,
   "metadata": {},
   "outputs": [
    {
     "name": "stdout",
     "output_type": "stream",
     "text": [
      "1\n",
      "2\n",
      "8\n",
      "18\n",
      "40\n"
     ]
    }
   ],
   "source": [
    "# 사각형 면적 계산\n",
    "print(a.area())\n",
    "print(b.area())\n",
    "print(c.area())\n",
    "print(d.area())\n",
    "print(e.area())"
   ]
  },
  {
   "cell_type": "code",
   "execution_count": null,
   "metadata": {},
   "outputs": [],
   "source": []
  }
 ],
 "metadata": {
  "kernelspec": {
   "display_name": "Python 3",
   "language": "python",
   "name": "python3"
  },
  "language_info": {
   "codemirror_mode": {
    "name": "ipython",
    "version": 3
   },
   "file_extension": ".py",
   "mimetype": "text/x-python",
   "name": "python",
   "nbconvert_exporter": "python",
   "pygments_lexer": "ipython3",
   "version": "3.8.5"
  }
 },
 "nbformat": 4,
 "nbformat_minor": 4
}
