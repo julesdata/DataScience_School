{
 "cells": [
  {
   "cell_type": "markdown",
   "metadata": {},
   "source": [
    "## 2.5 파이썬 조건문 기초\n",
    "### if ~ else 명령\n",
    ">```python\n",
    ">if 조건 :\n",
    ">    조건이 참일 떄 실행 될 명령들  #4칸 들여쓰기\n",
    ">else :\n",
    ">    조건이 거짓일 떄 실행되는 명령들  \n",
    "#else 생략 시 거짓 일때 아무 것도 실행 되지 않음\n",
    ">```"
   ]
  },
  {
   "cell_type": "code",
   "execution_count": 1,
   "metadata": {},
   "outputs": [
    {
     "name": "stdout",
     "output_type": "stream",
     "text": [
      "홀수\n"
     ]
    }
   ],
   "source": [
    "a =  1\n",
    "\n",
    "if a % 2 == 0:\n",
    "    print(\"짝수\")\n",
    "else:\n",
    "    print(\"홀수\")"
   ]
  },
  {
   "cell_type": "code",
   "execution_count": 10,
   "metadata": {},
   "outputs": [
    {
     "name": "stdout",
     "output_type": "stream",
     "text": [
      "2자리 수의 짝수가 아니다.\n"
     ]
    }
   ],
   "source": [
    "b = 55\n",
    "\n",
    "if(b>=10) &  (b <100) & (b % 2 == 0):\n",
    "    print(\"2자리 수의 짝수이다.\")\n",
    "else :\n",
    "    print(\"2자리 수의 짝수가 아니다.\")"
   ]
  },
  {
   "cell_type": "markdown",
   "metadata": {},
   "source": [
    "### 연습문제 2.5.1\n",
    "1. a 를 짝수로 하여 위의 코드를 다시 실행한다."
   ]
  },
  {
   "cell_type": "code",
   "execution_count": 11,
   "metadata": {},
   "outputs": [
    {
     "name": "stdout",
     "output_type": "stream",
     "text": [
      "짝수\n"
     ]
    }
   ],
   "source": [
    "a = 2\n",
    "if a % 2 == 0:\n",
    "    print(\"짝수\")\n",
    "else:\n",
    "    print(\"홀수\")"
   ]
  },
  {
   "cell_type": "markdown",
   "metadata": {},
   "source": [
    "2. b 를 다른 수로 하여 위의 코드를 다시 실행한다."
   ]
  },
  {
   "cell_type": "code",
   "execution_count": 12,
   "metadata": {},
   "outputs": [
    {
     "name": "stdout",
     "output_type": "stream",
     "text": [
      "2자리 수의 짝수가 아니다.\n"
     ]
    }
   ],
   "source": [
    "b = 100\n",
    "if( b >= 10) & (b < 100) & (b % 2 == 0):\n",
    "    print(\"2자리 수의 짝수이다.\")\n",
    "else :\n",
    "    print(\"2자리 수의 짝수가 아니다.\")"
   ]
  },
  {
   "cell_type": "markdown",
   "metadata": {},
   "source": [
    "#### 연습문제 2.5.2\n",
    "변수 y의 값이 윤년이면 “윤년입니다”를 출력하고 아니라면 “윤년이 아닙니다”라고 출력하는 프로그램을 만든다. 윤년은 2월 29일이 있는 해로 다음과 같이 정해진다.\n",
    "\n",
    "* 서력 기원 연수가 4로 나누어 떨어지는 해는 윤년으로 한다(2004년, 2008년, 2012년, 2016년, 2020년, 2024년, …).\n",
    "\n",
    "* 이 중에서 100으로 나누어 떨어지는 해는 평년으로 한다(1900년, 2100년, 2200년, 2300년, 2500년, …).\n",
    "\n",
    "* 이 중에서 400으로 나누어 떨어지는 해는 윤년으로 둔다(1600년, 2000년, 2400년, …).\n",
    "\n"
   ]
  },
  {
   "cell_type": "code",
   "execution_count": 28,
   "metadata": {},
   "outputs": [
    {
     "name": "stdout",
     "output_type": "stream",
     "text": [
      "윤년이 아닙니다.\n"
     ]
    }
   ],
   "source": [
    "y=2500\n",
    "if((y % 4 == 0 and y % 100 != 0) or y % 400 == 0):\n",
    "    print(\"윤년입니다\")\n",
    "else:\n",
    "    print(\"윤년이 아닙니다.\")"
   ]
  },
  {
   "cell_type": "markdown",
   "metadata": {},
   "source": [
    "### if \\~ elif \\~ else 명령\n",
    "```python\n",
    "if 조건 1:\n",
    "    조건 1이 참일 떄 실행될 명령\n",
    "elif 조건 2:\n",
    "    조건 1이 거짓이고, 조건 2가 참일 때 실행될 명령\n",
    "elif 조건 3:\n",
    "    조건 1과 2가 거짓이고, 조건 3이 참일 때 실행될 명령\n",
    "\n",
    "    ...(생략)...\n",
    "\n",
    "else :\n",
    "    위의 어떤 조건도 참이 아니면 실행되는 명령\n",
    "```  "
   ]
  },
  {
   "cell_type": "code",
   "execution_count": 29,
   "metadata": {},
   "outputs": [
    {
     "name": "stdout",
     "output_type": "stream",
     "text": [
      "B\n"
     ]
    }
   ],
   "source": [
    "s = 6\n",
    "if s >= 8 :\n",
    "    print(\"A\")\n",
    "elif s>= 5:\n",
    "    print(\"B\")\n",
    "else:\n",
    "    print(\"C\")"
   ]
  },
  {
   "cell_type": "markdown",
   "metadata": {},
   "source": [
    "#### 연습문제 2.5.4"
   ]
  },
  {
   "cell_type": "code",
   "execution_count": 30,
   "metadata": {},
   "outputs": [
    {
     "name": "stdout",
     "output_type": "stream",
     "text": [
      "3등급\n"
     ]
    }
   ],
   "source": [
    "w=5\n",
    "if w >= 10:\n",
    "    print(\"1등급\")\n",
    "elif w >= 7:\n",
    "    print(\"2등급\")\n",
    "elif w>= 4:\n",
    "    print(\"3등급\")\n",
    "else:\n",
    "    print(\"4등급\")"
   ]
  },
  {
   "cell_type": "markdown",
   "metadata": {},
   "source": [
    "### 중첩 조건문\n",
    "조건문 안에 조건문이 포함된 형태\n",
    "\n",
    "```python\n",
    "if 조건 1:\n",
    "    조건1이 참일때 실행되는 명령\n",
    "    if 조건 2:\n",
    "        조건 1과 2가 모두 참일 때 실행될 명령\n",
    "    else: \n",
    "        조건 1은 참, 2는 거짓일 때 실행될 명령\n",
    "else:\n",
    "    조건 1이 거짓일 때 실행 될 명령\n",
    "```"
   ]
  },
  {
   "cell_type": "code",
   "execution_count": 31,
   "metadata": {},
   "outputs": [
    {
     "name": "stdout",
     "output_type": "stream",
     "text": [
      "Fail\n"
     ]
    }
   ],
   "source": [
    "sex = \"boy\"\n",
    "pushup = 8\n",
    "\n",
    "if sex == \"boy\":\n",
    "    if pushup >= 10:\n",
    "        grade = (\"Pass\")\n",
    "    else:\n",
    "        grade = (\"Fail\")\n",
    "else:\n",
    "    if pushup >= 5:\n",
    "        grade = (\"Pass\")\n",
    "    else:\n",
    "        grade = (\"Fail\")      \n",
    "print(grade)    "
   ]
  },
  {
   "cell_type": "markdown",
   "metadata": {},
   "source": [
    "#### 연습문제 2.5.5 \n",
    "죄수의 딜레마\n",
    "\n",
    "두 명의 범죄자 A, B가 체포되어 서로 다른 취조실에서 격리되어 심문을 받고 있다. 이들에게 자백 여부에 따라 다음의 선택이 가능하다.\n",
    "\n",
    "* 둘 중 하나가 배신하여 죄를 자백하면 자백한 사람은 즉시 풀어주고 나머지 한 명이 10년을 복역해야 한다.\n",
    "\n",
    "* 둘 모두 서로를 배신하여 죄를 자백하면 둘 다 5년을 복역한다.\n",
    "\n",
    "* 둘 모두 죄를 자백하지 않으면 둘 다 1년을 복역한다.\n",
    "\n",
    "죄수를 나타내는 변수 XA, XB는 자백하면 True, 그렇지 않으면 False를 가지는 값이다. 이때 변수 XA, XB 값에 따라 각각이 복역해야 하는 연 수를 변수 YA, YB라고 할 때 YA, YB를 계산하는 프로그램을 만든다.\n"
   ]
  },
  {
   "cell_type": "code",
   "execution_count": 43,
   "metadata": {},
   "outputs": [
    {
     "name": "stdout",
     "output_type": "stream",
     "text": [
      "YA=10, YB=0\n"
     ]
    }
   ],
   "source": [
    "XA = False\n",
    "XB = True\n",
    "\n",
    "if XA == True:\n",
    "    if XB == False:\n",
    "        YA = 0\n",
    "        YB = 10\n",
    "    else:\n",
    "        YA = 5\n",
    "        YB = 5\n",
    "else:\n",
    "    if XB ==True:\n",
    "        YA = 10\n",
    "        YB = 0\n",
    "    else: \n",
    "        YA = 1\n",
    "        YB = 1\n",
    "print(f\"YA={YA}, YB={YB}\")"
   ]
  }
 ],
 "metadata": {
  "kernelspec": {
   "display_name": "Python 3",
   "language": "python",
   "name": "python3"
  },
  "language_info": {
   "codemirror_mode": {
    "name": "ipython",
    "version": 3
   },
   "file_extension": ".py",
   "mimetype": "text/x-python",
   "name": "python",
   "nbconvert_exporter": "python",
   "pygments_lexer": "ipython3",
   "version": "3.8.5"
  }
 },
 "nbformat": 4,
 "nbformat_minor": 4
}
