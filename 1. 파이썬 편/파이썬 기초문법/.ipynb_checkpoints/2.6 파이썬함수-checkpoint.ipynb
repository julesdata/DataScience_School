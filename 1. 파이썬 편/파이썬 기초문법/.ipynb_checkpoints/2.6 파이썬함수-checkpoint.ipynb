{
 "cells": [
  {
   "cell_type": "markdown",
   "metadata": {},
   "source": [
    "## 2.6 파이썬 함수\n",
    "```python\n",
    "def 함수이름(입력변수이름):\n",
    "    출력변수를 만드는 명령\n",
    "    print 출력변수이름\n",
    "```"
   ]
  },
  {
   "cell_type": "code",
   "execution_count": 1,
   "metadata": {},
   "outputs": [],
   "source": [
    "# 2배의 값을 출력하는 함수\n",
    "def twotimes(x): \n",
    "    y = 2 * x\n",
    "    print y "
   ]
  },
  {
   "cell_type": "code",
   "execution_count": 2,
   "metadata": {},
   "outputs": [
    {
     "data": {
      "text/plain": [
       "4"
      ]
     },
     "execution_count": 2,
     "metadata": {},
     "output_type": "execute_result"
    }
   ],
   "source": [
    "twotimes(2)"
   ]
  },
  {
   "cell_type": "code",
   "execution_count": 3,
   "metadata": {},
   "outputs": [
    {
     "data": {
      "text/plain": [
       "154"
      ]
     },
     "execution_count": 3,
     "metadata": {},
     "output_type": "execute_result"
    }
   ],
   "source": [
    "twotimes(77)"
   ]
  },
  {
   "cell_type": "markdown",
   "metadata": {},
   "source": [
    "### 연습문제 2.6.1 \n",
    "1. 짝수가 입력되면 짝수라는 문자열을, 홀수가 입력되면 홀수라는 문자열을 반환하는 함수를 만든다."
   ]
  },
  {
   "cell_type": "code",
   "execution_count": 9,
   "metadata": {},
   "outputs": [
    {
     "name": "stdout",
     "output_type": "stream",
     "text": [
      "짝수\n",
      "홀수\n"
     ]
    }
   ],
   "source": [
    "def even(x):\n",
    "    if x % 2 == 0:\n",
    "        print (\"짝수\")\n",
    "    else:\n",
    "        print (\"홀수\")\n",
    "        \n",
    "even(100)\n",
    "even(55)"
   ]
  },
  {
   "cell_type": "markdown",
   "metadata": {},
   "source": [
    "2. 윤년을 나타나는 수가 입력되면 윤년이라는 문자열을, 그렇지 않은 수가 입력되면 평년이라는 문자열을 반환하는 함수를 만든다."
   ]
  },
  {
   "cell_type": "code",
   "execution_count": 15,
   "metadata": {},
   "outputs": [
    {
     "name": "stdout",
     "output_type": "stream",
     "text": [
      "윤년이 아닙니다.\n",
      "윤년입니다\n",
      "윤년입니다\n",
      "윤년이 아닙니다.\n"
     ]
    }
   ],
   "source": [
    "def leap_year(y):\n",
    "    if((y % 4 == 0 and y % 100 != 0) or y % 400 == 0):\n",
    "        print(\"윤년입니다\")\n",
    "    else:\n",
    "        print(\"윤년이 아닙니다.\")\n",
    "        \n",
    "leap_year(2021)\n",
    "leap_year(2020)\n",
    "leap_year(2000)\n",
    "leap_year(1900)"
   ]
  },
  {
   "cell_type": "markdown",
   "metadata": {},
   "source": [
    "### 연습문제 2.6.2\n",
    "평년일 때 1, 3, 5, 7, 8, 10, 12 월은 31일, 4, 6, 9, 11월은 30일, 2월은 28일이다. 월을 나타내는 숫자를 입력하면 그 달의 날짜 수를 반환하는 함수 days1 를 만든다. "
   ]
  },
  {
   "cell_type": "code",
   "execution_count": 22,
   "metadata": {},
   "outputs": [
    {
     "name": "stdout",
     "output_type": "stream",
     "text": [
      "30\n",
      "28\n",
      "31\n",
      "월 값이 아닙니다\n"
     ]
    }
   ],
   "source": [
    "def days1(x):\n",
    "    if x in ([1, 3, 5, 7, 8, 10, 12]):\n",
    "        print(31)\n",
    "    elif x in ([4, 6, 9, 11]):\n",
    "        print(30)\n",
    "    elif x in ([2]):\n",
    "        print(28)\n",
    "    else:\n",
    "        print(\"월 값이 아닙니다\")\n",
    "days1(11)\n",
    "days1(2)\n",
    "days1(8)\n",
    "days1(13)"
   ]
  },
  {
   "cell_type": "markdown",
   "metadata": {},
   "source": [
    "### 입력이 여러개인 함수\n",
    "함수의 입력변수는 여러개도 가능하다. 쉼표(,)를 사용하여 함수를 정의한다. \n",
    "```python\n",
    "def 함수이름(입력변수 1, 변수2, ...변수n):\n",
    "    출력변수를 만드는 명령\n",
    "    return 출력변수 이름 \n",
    "```"
   ]
  },
  {
   "cell_type": "code",
   "execution_count": 23,
   "metadata": {},
   "outputs": [],
   "source": [
    "def add(x,y):\n",
    "    return x+y"
   ]
  },
  {
   "cell_type": "code",
   "execution_count": 24,
   "metadata": {},
   "outputs": [
    {
     "data": {
      "text/plain": [
       "4"
      ]
     },
     "execution_count": 24,
     "metadata": {},
     "output_type": "execute_result"
    }
   ],
   "source": [
    "add(1,3)"
   ]
  },
  {
   "cell_type": "code",
   "execution_count": 25,
   "metadata": {},
   "outputs": [],
   "source": [
    "def sum(a,b,c):\n",
    "    s = a + b + c\n",
    "    return s"
   ]
  },
  {
   "cell_type": "code",
   "execution_count": 26,
   "metadata": {},
   "outputs": [
    {
     "data": {
      "text/plain": [
       "6"
      ]
     },
     "execution_count": 26,
     "metadata": {},
     "output_type": "execute_result"
    }
   ],
   "source": [
    "sum(1,2,3)"
   ]
  },
  {
   "cell_type": "markdown",
   "metadata": {},
   "source": [
    "### 연습문제 2.6.3\n",
    "연,월을 입력하면 그 달의 날짜 수를 반환하는 함수 days2 만들기"
   ]
  },
  {
   "cell_type": "code",
   "execution_count": 30,
   "metadata": {},
   "outputs": [],
   "source": [
    "def days2(y, m):\n",
    "    if (y % 4 == 0 and y % 100 != 0) or (y % 400 == 0):\n",
    "        if m in ([1, 3, 5, 7, 8, 10, 12]):\n",
    "            return(31)\n",
    "        elif m in ([4, 6, 9, 11]):\n",
    "            return(30)\n",
    "        elif m in ([2]):\n",
    "            return(29)\n",
    "    else:\n",
    "        if m in ([1, 3, 5, 7, 8, 10, 12]):\n",
    "            return(31)\n",
    "        elif m in ([4, 6, 9, 11]):\n",
    "            return(30)\n",
    "        elif m in ([2]):\n",
    "            return(28)         "
   ]
  },
  {
   "cell_type": "code",
   "execution_count": 31,
   "metadata": {},
   "outputs": [
    {
     "data": {
      "text/plain": [
       "29"
      ]
     },
     "execution_count": 31,
     "metadata": {},
     "output_type": "execute_result"
    }
   ],
   "source": [
    "days2(2020,2)"
   ]
  },
  {
   "cell_type": "code",
   "execution_count": 33,
   "metadata": {},
   "outputs": [
    {
     "data": {
      "text/plain": [
       "28"
      ]
     },
     "execution_count": 33,
     "metadata": {},
     "output_type": "execute_result"
    }
   ],
   "source": [
    "days2(2021,2)"
   ]
  },
  {
   "cell_type": "markdown",
   "metadata": {},
   "source": [
    "### 람다함수\n",
    "함수생성 형식을 맞출 필요 없이 짧게 줄여쓰는 함수로, 함수 자체를 다른 함수의 인수로 넣을 떄 , 함수의 출력값을 함수로 받을 때 유용하게 사용된다."
   ]
  },
  {
   "cell_type": "code",
   "execution_count": 38,
   "metadata": {},
   "outputs": [],
   "source": [
    "# 원래 함수\n",
    "def f(x):\n",
    "    return 2 * x"
   ]
  },
  {
   "cell_type": "code",
   "execution_count": 39,
   "metadata": {},
   "outputs": [
    {
     "data": {
      "text/plain": [
       "8"
      ]
     },
     "execution_count": 39,
     "metadata": {},
     "output_type": "execute_result"
    }
   ],
   "source": [
    "f(4)"
   ]
  },
  {
   "cell_type": "code",
   "execution_count": 36,
   "metadata": {},
   "outputs": [],
   "source": [
    "# lambda함수\n",
    "f = lambda x: 2*x"
   ]
  },
  {
   "cell_type": "code",
   "execution_count": 37,
   "metadata": {},
   "outputs": [
    {
     "data": {
      "text/plain": [
       "4"
      ]
     },
     "execution_count": 37,
     "metadata": {},
     "output_type": "execute_result"
    }
   ],
   "source": [
    "f(2)"
   ]
  },
  {
   "cell_type": "markdown",
   "metadata": {},
   "source": [
    "#### 지역변수(local variable)\n",
    ": 함수에 넣은 입력변수나 함수 안에서 만들어진 변수는 함수 바깥에서는 사용할 수 없다. 혹시 같은 변수가 있다고 하더라도 별개의 변수로 사용된다. \n",
    "\n",
    "#### 전역변수(global variable)\n",
    ": 지역변수와 반대로 함수 바깥에서 만들어진 변수는 함수 안에서 사용할 수 있다. 다만, 함수 안에서 변수의 값을 변형하여도 함수 밖으로 나오면 변수 값은 그대로 보존된다. \n",
    "전역변수 값을 함수안에서 바꾸고 싶을 때는 ```global```을 변수명 앞에 선언해준다.\n"
   ]
  },
  {
   "cell_type": "markdown",
   "metadata": {},
   "source": [
    "### 연습문제 2.6.4\n",
    "3개의 숫자를 입력하면 “그 숫자들의 합”과 “그 숫자들을 제곱한 숫자들의 합”의 차이(큰 수에서 작을 수를 뺀 값)를 계산하는 함수 diffsum를 만든다. 큰 수에서 작은 수를 뺀 결과이므로 항상 0보다 크거나 0과 같아야 한다."
   ]
  },
  {
   "cell_type": "code",
   "execution_count": 57,
   "metadata": {},
   "outputs": [],
   "source": [
    "def diffsum(a, b, c):\n",
    "    s = a + b+ c\n",
    "    t = a**2 + b**2 + c**2\n",
    "    print(\"합=\",s)\n",
    "    print(\"제곱의 합=\",t)\n",
    "    if s > t:\n",
    "        y = s-t\n",
    "    else:\n",
    "        y = t-s\n",
    "    return(y)"
   ]
  },
  {
   "cell_type": "code",
   "execution_count": 58,
   "metadata": {},
   "outputs": [
    {
     "name": "stdout",
     "output_type": "stream",
     "text": [
      "합= 6\n",
      "제곱의 합= 14\n"
     ]
    },
    {
     "data": {
      "text/plain": [
       "8"
      ]
     },
     "execution_count": 58,
     "metadata": {},
     "output_type": "execute_result"
    }
   ],
   "source": [
    "diffsum(1,2,3)"
   ]
  },
  {
   "cell_type": "code",
   "execution_count": 59,
   "metadata": {},
   "outputs": [
    {
     "name": "stdout",
     "output_type": "stream",
     "text": [
      "합= 0.6000000000000001\n",
      "제곱의 합= 0.12000000000000002\n"
     ]
    },
    {
     "data": {
      "text/plain": [
       "0.4800000000000001"
      ]
     },
     "execution_count": 59,
     "metadata": {},
     "output_type": "execute_result"
    }
   ],
   "source": [
    "diffsum(0.2,0.2,0.2)"
   ]
  },
  {
   "cell_type": "markdown",
   "metadata": {},
   "source": [
    "### 연습문제 2.6.5\n",
    "함수 바깥에 m 이라는 전역 변수를 만들고 그 값을 0으로 놓는다. 앞에서 만든 diffsum 함수를 고쳐서 diffsum 함수와 같은 값을 반환하지만 함수를 실행할 때 마다 diffsum 함수에서 계산된 값이 원래 있던 m보다 크면 m을 계산된 값으로 바꾸는 함수 diffsum2 를 만든다."
   ]
  },
  {
   "cell_type": "code",
   "execution_count": 66,
   "metadata": {},
   "outputs": [],
   "source": [
    "def diffsum(a, b, c):\n",
    "    s = a + b+ c\n",
    "    t = a**2 + b**2 + c**2\n",
    "    if s > t:\n",
    "        y = s-t\n",
    "    else:\n",
    "        y = t-s\n",
    "    return(y)"
   ]
  },
  {
   "cell_type": "code",
   "execution_count": 74,
   "metadata": {},
   "outputs": [],
   "source": [
    "m = 0\n",
    "def diffsum2(a,b,c):\n",
    "    global m\n",
    "    if diffsum(a,b,c) > m: \n",
    "        m = diffsum(a,b,c)\n",
    "    print(\"m =\",m)\n",
    "    return diffsum(a,b,c)"
   ]
  },
  {
   "cell_type": "code",
   "execution_count": 75,
   "metadata": {},
   "outputs": [
    {
     "name": "stdout",
     "output_type": "stream",
     "text": [
      "m = 8\n"
     ]
    },
    {
     "data": {
      "text/plain": [
       "8"
      ]
     },
     "execution_count": 75,
     "metadata": {},
     "output_type": "execute_result"
    }
   ],
   "source": [
    "diffsum2(1,2,3)"
   ]
  },
  {
   "cell_type": "code",
   "execution_count": 76,
   "metadata": {},
   "outputs": [
    {
     "name": "stdout",
     "output_type": "stream",
     "text": [
      "m = 20\n"
     ]
    },
    {
     "data": {
      "text/plain": [
       "20"
      ]
     },
     "execution_count": 76,
     "metadata": {},
     "output_type": "execute_result"
    }
   ],
   "source": [
    "diffsum2(2,3,4)"
   ]
  },
  {
   "cell_type": "code",
   "execution_count": 77,
   "metadata": {},
   "outputs": [
    {
     "name": "stdout",
     "output_type": "stream",
     "text": [
      "m = 20\n"
     ]
    },
    {
     "data": {
      "text/plain": [
       "8"
      ]
     },
     "execution_count": 77,
     "metadata": {},
     "output_type": "execute_result"
    }
   ],
   "source": [
    "diffsum2(1,2,3)"
   ]
  }
 ],
 "metadata": {
  "kernelspec": {
   "display_name": "Python 3",
   "language": "python",
   "name": "python3"
  },
  "language_info": {
   "codemirror_mode": {
    "name": "ipython",
    "version": 3
   },
   "file_extension": ".py",
   "mimetype": "text/x-python",
   "name": "python",
   "nbconvert_exporter": "python",
   "pygments_lexer": "ipython3",
   "version": "3.8.5"
  }
 },
 "nbformat": 4,
 "nbformat_minor": 4
}
