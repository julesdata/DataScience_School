{
 "cells": [
  {
   "cell_type": "markdown",
   "metadata": {},
   "source": [
    "## 2.6 파이썬 함수\n",
    "```python\n",
    "def 함수이름(입력변수이름):\n",
    "    출력변수를 만드는 명령\n",
    "    print 출력변수이름\n",
    "```"
   ]
  },
  {
   "cell_type": "code",
   "execution_count": 1,
   "metadata": {},
   "outputs": [],
   "source": [
    "# 2배의 값을 출력하는 함수\n",
    "def twotimes(x): \n",
    "    y = 2 * x\n",
    "    print y "
   ]
  },
  {
   "cell_type": "code",
   "execution_count": 2,
   "metadata": {},
   "outputs": [
    {
     "data": {
      "text/plain": [
       "4"
      ]
     },
     "execution_count": 2,
     "metadata": {},
     "output_type": "execute_result"
    }
   ],
   "source": [
    "twotimes(2)"
   ]
  },
  {
   "cell_type": "code",
   "execution_count": 3,
   "metadata": {},
   "outputs": [
    {
     "data": {
      "text/plain": [
       "154"
      ]
     },
     "execution_count": 3,
     "metadata": {},
     "output_type": "execute_result"
    }
   ],
   "source": [
    "twotimes(77)"
   ]
  },
  {
   "cell_type": "markdown",
   "metadata": {},
   "source": [
    "### 연습문제 2.6.1 \n",
    "1. 짝수가 입력되면 짝수라는 문자열을, 홀수가 입력되면 홀수라는 문자열을 반환하는 함수를 만든다."
   ]
  },
  {
   "cell_type": "code",
   "execution_count": 9,
   "metadata": {},
   "outputs": [
    {
     "name": "stdout",
     "output_type": "stream",
     "text": [
      "짝수\n",
      "홀수\n"
     ]
    }
   ],
   "source": [
    "def even(x):\n",
    "    if x % 2 == 0:\n",
    "        print (\"짝수\")\n",
    "    else:\n",
    "        print (\"홀수\")\n",
    "        \n",
    "even(100)\n",
    "even(55)"
   ]
  },
  {
   "cell_type": "markdown",
   "metadata": {},
   "source": [
    "2. 윤년을 나타나는 수가 입력되면 윤년이라는 문자열을, 그렇지 않은 수가 입력되면 평년이라는 문자열을 반환하는 함수를 만든다."
   ]
  },
  {
   "cell_type": "code",
   "execution_count": 15,
   "metadata": {},
   "outputs": [
    {
     "name": "stdout",
     "output_type": "stream",
     "text": [
      "윤년이 아닙니다.\n",
      "윤년입니다\n",
      "윤년입니다\n",
      "윤년이 아닙니다.\n"
     ]
    }
   ],
   "source": [
    "def leap_year(y):\n",
    "    if((y % 4 == 0 and y % 100 != 0) or y % 400 == 0):\n",
    "        print(\"윤년입니다\")\n",
    "    else:\n",
    "        print(\"윤년이 아닙니다.\")\n",
    "        \n",
    "leap_year(2021)\n",
    "leap_year(2020)\n",
    "leap_year(2000)\n",
    "leap_year(1900)"
   ]
  },
  {
   "cell_type": "markdown",
   "metadata": {},
   "source": [
    "### 연습문제 2.6.2\n",
    "평년일 때 1, 3, 5, 7, 8, 10, 12 월은 31일, 4, 6, 9, 11월은 30일, 2월은 28일이다. 월을 나타내는 숫자를 입력하면 그 달의 날짜 수를 반환하는 함수 days1 를 만든다. "
   ]
  },
  {
   "cell_type": "code",
   "execution_count": 22,
   "metadata": {},
   "outputs": [
    {
     "name": "stdout",
     "output_type": "stream",
     "text": [
      "30\n",
      "28\n",
      "31\n",
      "월 값이 아닙니다\n"
     ]
    }
   ],
   "source": [
    "def days1(x):\n",
    "    if x in ([1, 3, 5, 7, 8, 10, 12]):\n",
    "        print(31)\n",
    "    elif x in ([4, 6, 9, 11]):\n",
    "        print(30)\n",
    "    elif x in ([2]):\n",
    "        print(28)\n",
    "    else:\n",
    "        print(\"월 값이 아닙니다\")\n",
    "days1(11)\n",
    "days1(2)\n",
    "days1(8)\n",
    "days1(13)"
   ]
  },
  {
   "cell_type": "code",
   "execution_count": null,
   "metadata": {},
   "outputs": [],
   "source": []
  }
 ],
 "metadata": {
  "kernelspec": {
   "display_name": "Python 3",
   "language": "python",
   "name": "python3"
  },
  "language_info": {
   "codemirror_mode": {
    "name": "ipython",
    "version": 3
   },
   "file_extension": ".py",
   "mimetype": "text/x-python",
   "name": "python",
   "nbconvert_exporter": "python",
   "pygments_lexer": "ipython3",
   "version": "3.8.5"
  }
 },
 "nbformat": 4,
 "nbformat_minor": 4
}
