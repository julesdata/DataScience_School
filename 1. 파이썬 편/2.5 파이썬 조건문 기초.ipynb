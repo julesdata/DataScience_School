{
 "cells": [
  {
   "cell_type": "markdown",
   "metadata": {},
   "source": [
    "## 2.5 파이썬 조건문 기초\n",
    "### if ~ else 명령\n",
    ">```python\n",
    ">if 조건 :\n",
    ">    조건이 참일 떄 실행 될 명령들  #4칸 들여쓰기\n",
    ">else :\n",
    ">    조건이 거짓일 떄 실행되는 명령들  \n",
    "#else 생략 시 거짓 일때 아무 것도 실행 되지 않음\n",
    ">```"
   ]
  },
  {
   "cell_type": "code",
   "execution_count": 1,
   "metadata": {},
   "outputs": [
    {
     "name": "stdout",
     "output_type": "stream",
     "text": [
      "홀수\n"
     ]
    }
   ],
   "source": [
    "a =  1\n",
    "\n",
    "if a % 2 == 0:\n",
    "    print(\"짝수\")\n",
    "else:\n",
    "    print(\"홀수\")"
   ]
  },
  {
   "cell_type": "code",
   "execution_count": 4,
   "metadata": {},
   "outputs": [
    {
     "name": "stdout",
     "output_type": "stream",
     "text": [
      "2자리 수의 짝수가 아니다.\n"
     ]
    }
   ],
   "source": [
    "b = 55\n",
    "\n",
    "if(b>=100 &  b <100) & (b % 2 == 0):\n",
    "    print(\"2자리 수의 짝수이다.\")\n",
    "else :\n",
    "    print(\"2자리 수의 짝수가 아니다.\")"
   ]
  },
  {
   "cell_type": "code",
   "execution_count": null,
   "metadata": {},
   "outputs": [],
   "source": []
  }
 ],
 "metadata": {
  "kernelspec": {
   "display_name": "Python 3",
   "language": "python",
   "name": "python3"
  },
  "language_info": {
   "codemirror_mode": {
    "name": "ipython",
    "version": 3
   },
   "file_extension": ".py",
   "mimetype": "text/x-python",
   "name": "python",
   "nbconvert_exporter": "python",
   "pygments_lexer": "ipython3",
   "version": "3.8.5"
  }
 },
 "nbformat": 4,
 "nbformat_minor": 4
}
